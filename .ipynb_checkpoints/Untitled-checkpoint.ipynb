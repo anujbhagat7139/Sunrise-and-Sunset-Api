{
 "cells": [
  {
   "cell_type": "code",
   "execution_count": 45,
   "id": "968852a3",
   "metadata": {},
   "outputs": [
    {
     "name": "stdout",
     "output_type": "stream",
     "text": [
      "Present Time(in hr):0\n",
      "Sunrise Time(in hr):23\n",
      "Sunset Time(in hr):13\n"
     ]
    }
   ],
   "source": [
    "import requests\n",
    "import datetime as dt\n",
    "\n",
    "now=dt.datetime.now()\n",
    "# You can put the Latitude and Longitude of the Place you want to Check.\n",
    "# In, My case i have added my city Raigarh.\n",
    "LAT=21.897899 \n",
    "LONG=83.386981\n",
    "parameters={\"lat\":LAT,\n",
    "           \"lng\":LONG,\n",
    "           \"formatted\":0\n",
    "           }\n",
    "response=requests.get(\"https://api.sunrise-sunset.org/json\",params=parameters)\n",
    "#print(response.json(). While running this we're going to get error. Since, Our response require parameter. \n",
    "#check website for more  information.\n",
    "data=response.json()\n",
    "sunrise=data[\"results\"][\"sunrise\"]\n",
    "sunset=data[\"results\"][\"sunset\"]\n",
    "#print(data)\n",
    "print(f\"Complete sunset time :{sunset}\")\n",
    "# I have putted this split string method to get the Hours.\n",
    "print(f\"Present Time(in hr):{now.hour}\")\n",
    "print(f\"Sunrise Time(in hr):{ sunrise.split('T')[1].split(':')[0] }\")\n",
    "# I have putted this split string method to get the Hours.\n",
    "print(f\"Sunset Time(in hr):{ sunset.split('T')[1].split(':')[0] }\")"
   ]
  },
  {
   "cell_type": "code",
   "execution_count": null,
   "id": "9f062ade",
   "metadata": {},
   "outputs": [],
   "source": []
  }
 ],
 "metadata": {
  "kernelspec": {
   "display_name": "Python 3 (ipykernel)",
   "language": "python",
   "name": "python3"
  },
  "language_info": {
   "codemirror_mode": {
    "name": "ipython",
    "version": 3
   },
   "file_extension": ".py",
   "mimetype": "text/x-python",
   "name": "python",
   "nbconvert_exporter": "python",
   "pygments_lexer": "ipython3",
   "version": "3.9.12"
  }
 },
 "nbformat": 4,
 "nbformat_minor": 5
}
